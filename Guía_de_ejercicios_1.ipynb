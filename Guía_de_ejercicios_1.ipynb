{
  "nbformat": 4,
  "nbformat_minor": 0,
  "metadata": {
    "colab": {
      "provenance": [],
      "collapsed_sections": [],
      "include_colab_link": true
    },
    "kernelspec": {
      "name": "python3",
      "display_name": "Python 3"
    },
    "language_info": {
      "name": "python"
    }
  },
  "cells": [
    {
      "cell_type": "markdown",
      "metadata": {
        "id": "view-in-github",
        "colab_type": "text"
      },
      "source": [
        "<a href=\"https://colab.research.google.com/github/silviacervantes/CaC-BigData-2022/blob/main/Gu%C3%ADa_de_ejercicios_1.ipynb\" target=\"_parent\"><img src=\"https://colab.research.google.com/assets/colab-badge.svg\" alt=\"Open In Colab\"/></a>"
      ]
    },
    {
      "cell_type": "markdown",
      "metadata": {
        "id": "dtmp2RNQKlWz"
      },
      "source": [
        "#Guía de ejercicios N° 1\n",
        "**Ejercicio 1**\n",
        "\n",
        "Crear un programa que imprima el mensaje \"Hola mundo!\" por pantalla"
      ]
    },
    {
      "cell_type": "code",
      "metadata": {
        "id": "TqOlPKsKK4Pu"
      },
      "source": [],
      "execution_count": null,
      "outputs": []
    },
    {
      "cell_type": "markdown",
      "metadata": {
        "id": "Bcue1GY4K4wN"
      },
      "source": [
        "**Ejercicio 2**\n",
        "\n",
        "Crear un programa que almacene el mensaje \"Hola mundo!\" en una variable y luego lo imprima por pantalla\n"
      ]
    },
    {
      "cell_type": "code",
      "metadata": {
        "id": "9nb3GWEKLMTy"
      },
      "source": [],
      "execution_count": null,
      "outputs": []
    },
    {
      "cell_type": "markdown",
      "metadata": {
        "id": "YXe21jUiLM5-"
      },
      "source": [
        "**Ejercicio 3**\n",
        "\n",
        "Crear un programa que le pida al usuario nombre y edad e imprima ambos datos en renglones distintos"
      ]
    },
    {
      "cell_type": "code",
      "metadata": {
        "id": "hqOO0tG9Lajv"
      },
      "source": [],
      "execution_count": null,
      "outputs": []
    },
    {
      "cell_type": "markdown",
      "metadata": {
        "id": "C-A3Wy-lLbUF"
      },
      "source": [
        "**Ejercicio 4**\n",
        "\n",
        "Crear un programa que pregunte el nombre de usuario y un número entero. Imprima por pantalla en líneas distintas el nombre de usuario tantas veces como el número introducido."
      ]
    },
    {
      "cell_type": "code",
      "metadata": {
        "id": "j2NuNdyxLwhp"
      },
      "source": [],
      "execution_count": null,
      "outputs": []
    },
    {
      "cell_type": "markdown",
      "metadata": {
        "id": "KF67il5GLx7h"
      },
      "source": [
        "**Ejercicio 5**\n",
        "\n",
        "Idem anterior, pero que también aparezcan las líneas numeradas."
      ]
    },
    {
      "cell_type": "code",
      "metadata": {
        "id": "iJ1IuVv2MVZ0"
      },
      "source": [],
      "execution_count": null,
      "outputs": []
    },
    {
      "cell_type": "markdown",
      "metadata": {
        "id": "rh28UJWbO-dL"
      },
      "source": [
        "**Ejercicio 6**\n",
        "\n",
        "Crear un programa que pregunte el nombre de usuario y se muestre por pantalla: `*nombre* tiene *n* letras`"
      ]
    },
    {
      "cell_type": "code",
      "metadata": {
        "id": "WxOHoJRwPxJG"
      },
      "source": [],
      "execution_count": null,
      "outputs": []
    },
    {
      "cell_type": "markdown",
      "metadata": {
        "id": "T6O4oXLoPxhA"
      },
      "source": [
        "**Ejercicio 7**\n",
        "\n",
        "Crear un programa que realice la siguiente operación aritmética: `[ (3 + 2) / 2 * 5 ]^2`\n",
        "\n",
        "Imprima el resultado por pantalla."
      ]
    },
    {
      "cell_type": "code",
      "metadata": {
        "id": "Js485i6MRKCK"
      },
      "source": [],
      "execution_count": null,
      "outputs": []
    },
    {
      "cell_type": "markdown",
      "metadata": {
        "id": "8MPGOM5GRKhM"
      },
      "source": [
        "**Ejercicio 8**\n",
        "\n",
        "Crear un programa que pida al usuario dos números enteros *m* y *n* y muestre por pantalla lo siguiente:\n",
        "\n",
        "`m dividido por n da c, con resto r`\n",
        "\n",
        "siendo m y n los números ingresados por el usuario, c el cociente y r el resto de la división.\n",
        "\n"
      ]
    },
    {
      "cell_type": "code",
      "metadata": {
        "id": "8cqsUDQsSiRv"
      },
      "source": [],
      "execution_count": null,
      "outputs": []
    },
    {
      "cell_type": "markdown",
      "metadata": {
        "id": "oRa9STjZSinF"
      },
      "source": [
        "**Ejercicio 9**\n",
        "\n",
        "Crear un programa que pregunte al usuario una cantidad a invertir, el porcentaje de interés anual, y el número de años de inversión. Muestre por pantalla el interés obtenido en la inversión. Fórmula de interés obtenido =   capital x interés x años"
      ]
    },
    {
      "cell_type": "code",
      "metadata": {
        "id": "o1k1HJsBTgAn"
      },
      "source": [],
      "execution_count": null,
      "outputs": []
    },
    {
      "cell_type": "markdown",
      "metadata": {
        "id": "9fp72vs7Tm5f"
      },
      "source": [
        "**Ejercicio 10**\n",
        "\n",
        "Una fábrica de juguetes produce payasos y ositos. La empresa de logística cobra por el peso de cada entrega.\n",
        "Sabiendo que cada payaso pesa 450 gr y cada osito 520g, crear un programa que pida las unidades vendidas de cada artículo y devuelva por pantalla el peso total del pedido a despachar."
      ]
    },
    {
      "cell_type": "code",
      "metadata": {
        "id": "-GPVWk2KU1hc"
      },
      "source": [],
      "execution_count": null,
      "outputs": []
    }
  ]
}